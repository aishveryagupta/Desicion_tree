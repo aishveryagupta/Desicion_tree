{
 "cells": [
  {
   "cell_type": "code",
   "execution_count": 2,
   "id": "75c1d58e",
   "metadata": {},
   "outputs": [],
   "source": [
    "#This is a Stationary Dataset.\n",
    "#The first two columns of the dataset are features.\n",
    "#The last column of the dataset is the label.\n",
    "#The 2nd and 5th row is written in a way that they both have similar features but different labels,\n",
    "#to see how the model handles this case.\n",
    "training_data = [\n",
    "    ['Blue', 10, 'Pen'],\n",
    "    ['Black', 10, 'Pen'],\n",
    "    ['White', 3, 'Eraser'],\n",
    "    ['White', 3, 'Eraser'],\n",
    "    ['Black', 10, 'Pencil'],\n",
    "]"
   ]
  },
  {
   "cell_type": "code",
   "execution_count": 3,
   "id": "830caec0",
   "metadata": {},
   "outputs": [],
   "source": [
    "#This is the header of the Dataset.\n",
    "header = [\"color\", \"length\", \"label\"]"
   ]
  },
  {
   "cell_type": "code",
   "execution_count": 4,
   "id": "a5b845b5",
   "metadata": {},
   "outputs": [],
   "source": [
    "#This Function will find unique values for a column in the dataset.\n",
    "def unique_vals(rows, col):\n",
    "    return set([row[col] for row in rows])"
   ]
  },
  {
   "cell_type": "code",
   "execution_count": 5,
   "id": "0d569ac8",
   "metadata": {},
   "outputs": [
    {
     "data": {
      "text/plain": [
       "{'Black', 'Blue', 'White'}"
      ]
     },
     "execution_count": 5,
     "metadata": {},
     "output_type": "execute_result"
    }
   ],
   "source": [
    "unique_vals(training_data, 0)"
   ]
  },
  {
   "cell_type": "code",
   "execution_count": 6,
   "id": "bcec33bb",
   "metadata": {},
   "outputs": [],
   "source": [
    "#This function counts the number of each type of items in the dataset.\n",
    "def class_counts(rows):\n",
    "    counts = {}  \n",
    "    for row in rows:\n",
    "        label = row[-1] #because in this dataset, label is the last column\n",
    "        if label not in counts:\n",
    "            counts[label] = 0\n",
    "        counts[label] += 1\n",
    "    return counts"
   ]
  },
  {
   "cell_type": "code",
   "execution_count": 7,
   "id": "7dc9e70c",
   "metadata": {},
   "outputs": [
    {
     "data": {
      "text/plain": [
       "{'Pen': 2, 'Eraser': 2, 'Pencil': 1}"
      ]
     },
     "execution_count": 7,
     "metadata": {},
     "output_type": "execute_result"
    }
   ],
   "source": [
    "class_counts(training_data)"
   ]
  },
  {
   "cell_type": "code",
   "execution_count": 8,
   "id": "5626406c",
   "metadata": {},
   "outputs": [],
   "source": [
    "#This function tests if the value is numeric or not.\n",
    "def is_numeric(value):\n",
    "    return isinstance(value, int) or isinstance(value, float)"
   ]
  },
  {
   "cell_type": "code",
   "execution_count": 9,
   "id": "559161b2",
   "metadata": {},
   "outputs": [
    {
     "data": {
      "text/plain": [
       "True"
      ]
     },
     "execution_count": 9,
     "metadata": {},
     "output_type": "execute_result"
    }
   ],
   "source": [
    "is_numeric(7)"
   ]
  },
  {
   "cell_type": "code",
   "execution_count": 10,
   "id": "7004b563",
   "metadata": {},
   "outputs": [],
   "source": [
    "#The class Question is used to partition the dataset. \n",
    "class Question:\n",
    "\n",
    "    def __init__(self, column, value):\n",
    "        self.column = column\n",
    "        self.value = value\n",
    "#The method match is used to comapre the features in each row with the features stored in the class.\n",
    "    def match(self, example):\n",
    "        val = example[self.column]\n",
    "        if is_numeric(val):\n",
    "            return val >= self.value\n",
    "        else:\n",
    "            return val == self.value\n",
    "#The method __repr__ is used to print the question being asked. \n",
    "    def __repr__(self):\n",
    "        condition = \"==\"\n",
    "        if is_numeric(self.value):\n",
    "            condition = \">=\"\n",
    "        return \"Is %s %s %s?\" % (\n",
    "            header[self.column], condition, str(self.value))"
   ]
  },
  {
   "cell_type": "code",
   "execution_count": 11,
   "id": "af3ecfc0",
   "metadata": {},
   "outputs": [
    {
     "data": {
      "text/plain": [
       "Is length >= 10?"
      ]
     },
     "execution_count": 11,
     "metadata": {},
     "output_type": "execute_result"
    }
   ],
   "source": [
    "Question(1, 10)"
   ]
  },
  {
   "cell_type": "code",
   "execution_count": 12,
   "id": "dea41b41",
   "metadata": {},
   "outputs": [
    {
     "data": {
      "text/plain": [
       "Is color == Blue?"
      ]
     },
     "execution_count": 12,
     "metadata": {},
     "output_type": "execute_result"
    }
   ],
   "source": [
    "q = Question(0, 'Blue')\n",
    "q"
   ]
  },
  {
   "cell_type": "code",
   "execution_count": 13,
   "id": "80c7afe3",
   "metadata": {},
   "outputs": [
    {
     "data": {
      "text/plain": [
       "True"
      ]
     },
     "execution_count": 13,
     "metadata": {},
     "output_type": "execute_result"
    }
   ],
   "source": [
    "example = training_data[0]\n",
    "q.match(example) "
   ]
  },
  {
   "cell_type": "code",
   "execution_count": 14,
   "id": "10644d98",
   "metadata": {},
   "outputs": [],
   "source": [
    "#The method partition checks if any row matches to the question.\n",
    "#If so, the item is added to the true rows or else to the false rows.\n",
    "def partition(rows, question):\n",
    "    true_rows, false_rows = [], []\n",
    "    for row in rows:\n",
    "        if question.match(row):\n",
    "            true_rows.append(row)\n",
    "        else:\n",
    "            false_rows.append(row)\n",
    "    return true_rows, false_rows"
   ]
  },
  {
   "cell_type": "code",
   "execution_count": 15,
   "id": "e69d7eed",
   "metadata": {},
   "outputs": [
    {
     "data": {
      "text/plain": [
       "[['White', 3, 'Eraser'], ['White', 3, 'Eraser']]"
      ]
     },
     "execution_count": 15,
     "metadata": {},
     "output_type": "execute_result"
    }
   ],
   "source": [
    "#Here, we are Partitioning the dataset on the basis of whether the item is White in colour or not.\n",
    "true_rows, false_rows = partition(training_data, Question(0, 'White'))\n",
    "#True_rows will contaions all the rows of items that are White.\n",
    "true_rows"
   ]
  },
  {
   "cell_type": "code",
   "execution_count": 16,
   "id": "6f01bf25",
   "metadata": {},
   "outputs": [
    {
     "data": {
      "text/plain": [
       "[['Blue', 10, 'Pen'], ['Black', 10, 'Pen'], ['Black', 10, 'Pencil']]"
      ]
     },
     "execution_count": 16,
     "metadata": {},
     "output_type": "execute_result"
    }
   ],
   "source": [
    "#false_rows will conatin all the rows of items that are not White.\n",
    "false_rows"
   ]
  },
  {
   "cell_type": "code",
   "execution_count": 17,
   "id": "1385bad4",
   "metadata": {},
   "outputs": [],
   "source": [
    "#The method gini calculates GINI impurities for all the rows in the datset.\n",
    "#GINI impurity is used to decide the optimal split from a root node in a decision tree. \n",
    "def gini(rows):\n",
    "    counts = class_counts(rows)\n",
    "    impurity = 1\n",
    "    for lbl in counts:\n",
    "        prob_of_lbl = counts[lbl] / float(len(rows))\n",
    "        impurity -= prob_of_lbl**2\n",
    "    return impurity"
   ]
  },
  {
   "cell_type": "code",
   "execution_count": 18,
   "id": "c4bd0e0e",
   "metadata": {},
   "outputs": [
    {
     "data": {
      "text/plain": [
       "0.0"
      ]
     },
     "execution_count": 18,
     "metadata": {},
     "output_type": "execute_result"
    }
   ],
   "source": [
    "#An example with no mixing gives out the value of GINI impurity as 0\n",
    "no_mixing = [['Pen'],\n",
    "              ['Pen']]\n",
    "gini(no_mixing)"
   ]
  },
  {
   "cell_type": "code",
   "execution_count": 19,
   "id": "50380d9f",
   "metadata": {},
   "outputs": [
    {
     "data": {
      "text/plain": [
       "0.5"
      ]
     },
     "execution_count": 19,
     "metadata": {},
     "output_type": "execute_result"
    }
   ],
   "source": [
    "#An example with 50% mixing gives 0.5\n",
    "some_mixing = [['Pen'],\n",
    "               ['Ruler']]\n",
    "gini(some_mixing)"
   ]
  },
  {
   "cell_type": "code",
   "execution_count": 20,
   "id": "cb90fa99",
   "metadata": {},
   "outputs": [
    {
     "data": {
      "text/plain": [
       "0.7999999999999998"
      ]
     },
     "execution_count": 20,
     "metadata": {},
     "output_type": "execute_result"
    }
   ],
   "source": [
    "#An example with lots of mixing. \n",
    "lots_of_mixing = [['Pen'],\n",
    "                  ['Ruler'],\n",
    "                  ['Eraser'],\n",
    "                  ['Sharpner'],\n",
    "                  ['Marker']]\n",
    "gini(lots_of_mixing)"
   ]
  },
  {
   "cell_type": "code",
   "execution_count": 21,
   "id": "57756130",
   "metadata": {},
   "outputs": [],
   "source": [
    "#The method info_gain will measure uncertainty of the starting node, minus the weighted impurity of two sub-nodes.\n",
    "def info_gain(left, right, current_uncertainty):\n",
    "    p = float(len(left)) / (len(left) + len(right))\n",
    "    return current_uncertainty - p * gini(left) - (1 - p) * gini(right)"
   ]
  },
  {
   "cell_type": "code",
   "execution_count": 22,
   "id": "8e5413af",
   "metadata": {},
   "outputs": [
    {
     "data": {
      "text/plain": [
       "0.6399999999999999"
      ]
     },
     "execution_count": 22,
     "metadata": {},
     "output_type": "execute_result"
    }
   ],
   "source": [
    "#Calculating Uncertaininty of the training datset.\n",
    "current_uncertainty = gini(training_data)\n",
    "current_uncertainty"
   ]
  },
  {
   "cell_type": "code",
   "execution_count": 23,
   "id": "54e5c519",
   "metadata": {},
   "outputs": [
    {
     "data": {
      "text/plain": [
       "0.1399999999999999"
      ]
     },
     "execution_count": 23,
     "metadata": {},
     "output_type": "execute_result"
    }
   ],
   "source": [
    "#How much information is gained when partitioned by the colour 'Blue'?\n",
    "true_rows, false_rows = partition(training_data, Question(0, 'Blue'))\n",
    "info_gain(true_rows, false_rows, current_uncertainty)"
   ]
  },
  {
   "cell_type": "code",
   "execution_count": 24,
   "id": "af6365bc",
   "metadata": {},
   "outputs": [
    {
     "data": {
      "text/plain": [
       "0.37333333333333324"
      ]
     },
     "execution_count": 24,
     "metadata": {},
     "output_type": "execute_result"
    }
   ],
   "source": [
    "#How much information is gained when partioned by the colour 'White'?\n",
    "true_rows, false_rows = partition(training_data, Question(0,'White'))\n",
    "info_gain(true_rows, false_rows, current_uncertainty)"
   ]
  },
  {
   "cell_type": "code",
   "execution_count": 25,
   "id": "d2bad8e4",
   "metadata": {},
   "outputs": [
    {
     "data": {
      "text/plain": [
       "[['White', 3, 'Eraser'], ['White', 3, 'Eraser']]"
      ]
     },
     "execution_count": 25,
     "metadata": {},
     "output_type": "execute_result"
    }
   ],
   "source": [
    "#Since, information gained by the colour 'White'(0.373) is more then that gained by 'Blue'(0.139) \n",
    "true_rows, false_rows = partition(training_data, Question(0,'White'))\n",
    "#Here, the true_rows conatins only one type of item i.e. 'Eraser'\n",
    "true_rows"
   ]
  },
  {
   "cell_type": "code",
   "execution_count": 26,
   "id": "1efce626",
   "metadata": {},
   "outputs": [
    {
     "data": {
      "text/plain": [
       "[['Blue', 10, 'Pen'], ['Black', 10, 'Pen'], ['Black', 10, 'Pencil']]"
      ]
     },
     "execution_count": 26,
     "metadata": {},
     "output_type": "execute_result"
    }
   ],
   "source": [
    "#And false_rows conatains two types of items. \n",
    "false_rows"
   ]
  },
  {
   "cell_type": "code",
   "execution_count": 27,
   "id": "9e760f79",
   "metadata": {},
   "outputs": [
    {
     "data": {
      "text/plain": [
       "[['Blue', 10, 'Pen']]"
      ]
     },
     "execution_count": 27,
     "metadata": {},
     "output_type": "execute_result"
    }
   ],
   "source": [
    "#But when we partitioned the data using 'Blue' colour \n",
    "#true_rows contains only one item i.e. 'Pen'\n",
    "true_rows, false_rows = partition(training_data, Question(0,'Blue'))\n",
    "true_rows"
   ]
  },
  {
   "cell_type": "code",
   "execution_count": 28,
   "id": "acc6711e",
   "metadata": {},
   "outputs": [
    {
     "data": {
      "text/plain": [
       "[['Black', 10, 'Pen'],\n",
       " ['White', 3, 'Eraser'],\n",
       " ['White', 3, 'Eraser'],\n",
       " ['Black', 10, 'Pencil']]"
      ]
     },
     "execution_count": 28,
     "metadata": {},
     "output_type": "execute_result"
    }
   ],
   "source": [
    "#But false_rows conatins alot of items. \n",
    "false_rows"
   ]
  },
  {
   "cell_type": "code",
   "execution_count": 29,
   "id": "4b9c73b0",
   "metadata": {},
   "outputs": [],
   "source": [
    "#The method find_best_split will find the best question to ask by iterating every feature and calculating the information gain.\n",
    "def find_best_split(rows):\n",
    "    best_gain = 0  #keeps track of the best information gain\n",
    "    best_question = None  #keeps train of the feature that produced it\n",
    "    current_uncertainty = gini(rows)\n",
    "    n_features = len(rows[0]) - 1  #number of columns\n",
    "\n",
    "    for col in range(n_features):  #for each feature\n",
    "\n",
    "        values = set([row[col] for row in rows]) #unique values in the column\n",
    "\n",
    "\n",
    "        for val in values:  #for each value\n",
    "\n",
    "            question = Question(col, val)\n",
    "            #tries splitting the dataset  \n",
    "            true_rows, false_rows = partition(rows, question)\n",
    "            #Skips this split if it doesn't divide thevdataset.\n",
    "            if len(true_rows) == 0 or len(false_rows) == 0:\n",
    "                continue\n",
    "            #Calculate the information gain from this split\n",
    "            gain = info_gain(true_rows, false_rows, current_uncertainty)\n",
    "            \n",
    "            if gain >= best_gain:\n",
    "                best_gain, best_question = gain, question\n",
    "\n",
    "    return best_gain, best_question"
   ]
  },
  {
   "cell_type": "code",
   "execution_count": 30,
   "id": "2ad14874",
   "metadata": {},
   "outputs": [
    {
     "data": {
      "text/plain": [
       "Is length >= 10?"
      ]
     },
     "execution_count": 30,
     "metadata": {},
     "output_type": "execute_result"
    }
   ],
   "source": [
    "#Finding the best question for our training dataset\n",
    "best_gain, best_question = find_best_split(training_data)\n",
    "best_question"
   ]
  },
  {
   "cell_type": "code",
   "execution_count": 31,
   "id": "89723ec7",
   "metadata": {},
   "outputs": [],
   "source": [
    "#The class Leaf will hold a dictionary of class i.e. number of times\n",
    "#it appears in the rows from the training data that reach this leaf.\n",
    "class Leaf:\n",
    "\n",
    "    def __init__(self, rows):\n",
    "        self.predictions = class_counts(rows)"
   ]
  },
  {
   "cell_type": "code",
   "execution_count": 32,
   "id": "83671e65",
   "metadata": {},
   "outputs": [],
   "source": [
    "#This class holds a reference to the question, and to the two sub-nodes.\n",
    "class Decision_Node:\n",
    "\n",
    "    def __init__(self,\n",
    "                 question,\n",
    "                 true_branch,\n",
    "                 false_branch):\n",
    "        self.question = question\n",
    "        self.true_branch = true_branch\n",
    "        self.false_branch = false_branch"
   ]
  },
  {
   "cell_type": "code",
   "execution_count": 33,
   "id": "7222aec4",
   "metadata": {},
   "outputs": [],
   "source": [
    "#The method build_tree builds the tree. \n",
    "def build_tree(rows):\n",
    "#After partitioing the dataset on each of the unique attribute, calculating the information gain,\n",
    "#and returning the question that produces the highest gain.\n",
    "    gain, question = find_best_split(rows)\n",
    "#Base case: no further info gain, we can ask no further questions, we'll return a leaf.\n",
    "    if gain == 0:\n",
    "        return Leaf(rows)\n",
    "    #If we reach here, we have found a useful feature to partition.\n",
    "    true_rows, false_rows = partition(rows, question)\n",
    "\n",
    "    true_branch = build_tree(true_rows)#Recursively builds the true branch.\n",
    "\n",
    "    false_branch = build_tree(false_rows)#Recursively builds the false branch.\n",
    "    #Returns a Question node, this records the best feature to ask at this point,\n",
    "    #as well as the branches to follow depending on the answer.\n",
    "    return Decision_Node(question, true_branch, false_branch)"
   ]
  },
  {
   "cell_type": "code",
   "execution_count": 34,
   "id": "da51f3e1",
   "metadata": {},
   "outputs": [],
   "source": [
    "#This method will print the tree.\n",
    "def print_tree(node, spacing=\"\"):\n",
    "\n",
    "    if isinstance(node, Leaf):#Base case: we've reached a leaf\n",
    "        print (spacing + \"Predict\", node.predictions)\n",
    "        return\n",
    "\n",
    "    print (spacing + str(node.question))#Printing the question at this node\n",
    "\n",
    "    print (spacing + '--> True:')#Calling this function recursively on the true branch\n",
    "    print_tree(node.true_branch, spacing + \"  \")\n",
    "\n",
    "    print (spacing + '--> False:')#Calling this function recursively on the false branch\n",
    "    print_tree(node.false_branch, spacing + \"  \")"
   ]
  },
  {
   "cell_type": "code",
   "execution_count": 35,
   "id": "3b7119e2",
   "metadata": {},
   "outputs": [],
   "source": [
    "my_tree = build_tree(training_data)"
   ]
  },
  {
   "cell_type": "code",
   "execution_count": 36,
   "id": "33aef5aa",
   "metadata": {},
   "outputs": [
    {
     "name": "stdout",
     "output_type": "stream",
     "text": [
      "Is length >= 10?\n",
      "--> True:\n",
      "  Is color == Black?\n",
      "  --> True:\n",
      "    Predict {'Pen': 1, 'Pencil': 1}\n",
      "  --> False:\n",
      "    Predict {'Pen': 1}\n",
      "--> False:\n",
      "  Predict {'Eraser': 2}\n"
     ]
    }
   ],
   "source": [
    "print_tree(my_tree)"
   ]
  },
  {
   "cell_type": "code",
   "execution_count": 37,
   "id": "4b872254",
   "metadata": {},
   "outputs": [],
   "source": [
    "def classify(row, node):\n",
    "\n",
    "    if isinstance(node, Leaf):#Base case: we've reached a leaf\n",
    "        return node.predictions\n",
    "\n",
    "    #Decides whether to follow the true-branch or the false-branch,\n",
    "    #Compares the feature stored in the node, to the example we're considering.\n",
    "    if node.question.match(row):\n",
    "        return classify(row, node.true_branch)\n",
    "    else:\n",
    "        return classify(row, node.false_branch)"
   ]
  },
  {
   "cell_type": "code",
   "execution_count": 38,
   "id": "0cc26d93",
   "metadata": {},
   "outputs": [
    {
     "data": {
      "text/plain": [
       "{'Pen': 1}"
      ]
     },
     "execution_count": 38,
     "metadata": {},
     "output_type": "execute_result"
    }
   ],
   "source": [
    "#The tree preditcs the first row of the dataset with item 'Pen' and confidence 1\n",
    "classify(training_data[0], my_tree)"
   ]
  },
  {
   "cell_type": "code",
   "execution_count": 39,
   "id": "ab4d0f70",
   "metadata": {},
   "outputs": [],
   "source": [
    "#This method will print the prediction of the leaf.\n",
    "def print_leaf(counts):\n",
    "    total = sum(counts.values()) * 1.0\n",
    "    probs = {}\n",
    "    for lbl in counts.keys():\n",
    "        probs[lbl] = str(int(counts[lbl] / total * 100)) + \"%\"\n",
    "    return probs"
   ]
  },
  {
   "cell_type": "code",
   "execution_count": 40,
   "id": "6aaa3146",
   "metadata": {},
   "outputs": [
    {
     "data": {
      "text/plain": [
       "{'Pen': '100%'}"
      ]
     },
     "execution_count": 40,
     "metadata": {},
     "output_type": "execute_result"
    }
   ],
   "source": [
    "print_leaf(classify(training_data[0], my_tree))"
   ]
  },
  {
   "cell_type": "code",
   "execution_count": 41,
   "id": "3a0cddd4",
   "metadata": {},
   "outputs": [
    {
     "data": {
      "text/plain": [
       "{'Pen': '50%', 'Pencil': '50%'}"
      ]
     },
     "execution_count": 41,
     "metadata": {},
     "output_type": "execute_result"
    }
   ],
   "source": [
    "#For the second row of the dataset, the confidence is low, i.e; 0.5\n",
    "print_leaf(classify(training_data[1], my_tree))"
   ]
  },
  {
   "cell_type": "code",
   "execution_count": 42,
   "id": "bf45e266",
   "metadata": {},
   "outputs": [],
   "source": [
    "#This is our testing Dataset.\n",
    "testing_data = [\n",
    "    ['Blue', 10, 'Pen'],\n",
    "    ['Black', 10, 'Pen'],\n",
    "    ['White', 3, 'Eraser'],\n",
    "    ['White', 2, 'Eraser'],\n",
    "    ['Black', 10, 'Pencil'],\n",
    "    ['Black' , 10, 'Pen'] \n",
    "]"
   ]
  },
  {
   "cell_type": "code",
   "execution_count": 43,
   "id": "1dcc7dfd",
   "metadata": {},
   "outputs": [
    {
     "name": "stdout",
     "output_type": "stream",
     "text": [
      "Actual: Pen. Predicted: {'Pen': '100%'}\n",
      "Actual: Pen. Predicted: {'Pen': '50%', 'Pencil': '50%'}\n",
      "Actual: Eraser. Predicted: {'Eraser': '100%'}\n",
      "Actual: Eraser. Predicted: {'Eraser': '100%'}\n",
      "Actual: Pencil. Predicted: {'Pen': '50%', 'Pencil': '50%'}\n",
      "Actual: Pen. Predicted: {'Pen': '50%', 'Pencil': '50%'}\n"
     ]
    }
   ],
   "source": [
    "for row in testing_data:\n",
    "    print (\"Actual: %s. Predicted: %s\" %\n",
    "           (row[-1], print_leaf(classify(row, my_tree))))"
   ]
  },
  {
   "cell_type": "code",
   "execution_count": null,
   "id": "eb58afae",
   "metadata": {},
   "outputs": [],
   "source": []
  },
  {
   "cell_type": "code",
   "execution_count": null,
   "id": "5b00238b",
   "metadata": {},
   "outputs": [],
   "source": []
  },
  {
   "cell_type": "code",
   "execution_count": null,
   "id": "0c522f41",
   "metadata": {},
   "outputs": [],
   "source": []
  },
  {
   "cell_type": "code",
   "execution_count": null,
   "id": "6365632e",
   "metadata": {},
   "outputs": [],
   "source": []
  },
  {
   "cell_type": "code",
   "execution_count": null,
   "id": "81198709",
   "metadata": {},
   "outputs": [],
   "source": []
  }
 ],
 "metadata": {
  "kernelspec": {
   "display_name": "Python 3",
   "language": "python",
   "name": "python3"
  },
  "language_info": {
   "codemirror_mode": {
    "name": "ipython",
    "version": 3
   },
   "file_extension": ".py",
   "mimetype": "text/x-python",
   "name": "python",
   "nbconvert_exporter": "python",
   "pygments_lexer": "ipython3",
   "version": "3.8.8"
  }
 },
 "nbformat": 4,
 "nbformat_minor": 5
}
